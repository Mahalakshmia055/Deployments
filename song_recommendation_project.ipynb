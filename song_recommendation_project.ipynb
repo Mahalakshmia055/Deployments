{
  "nbformat": 4,
  "nbformat_minor": 0,
  "metadata": {
    "colab": {
      "provenance": [],
      "authorship_tag": "ABX9TyOncDWimRJ5GsH/7ax7VMtY",
      "include_colab_link": true
    },
    "kernelspec": {
      "name": "python3",
      "display_name": "Python 3"
    },
    "language_info": {
      "name": "python"
    }
  },
  "cells": [
    {
      "cell_type": "markdown",
      "metadata": {
        "id": "view-in-github",
        "colab_type": "text"
      },
      "source": [
        "<a href=\"https://colab.research.google.com/github/Mahalakshmia055/Deployments/blob/main/song_recommendation_project.ipynb\" target=\"_parent\"><img src=\"https://colab.research.google.com/assets/colab-badge.svg\" alt=\"Open In Colab\"/></a>"
      ]
    },
    {
      "cell_type": "code",
      "execution_count": null,
      "metadata": {
        "colab": {
          "base_uri": "https://localhost:8080/"
        },
        "id": "w9mNxiBSCZgx",
        "outputId": "87cfd006-ce87-42ce-d1f5-f9d931b28c58"
      },
      "outputs": [
        {
          "output_type": "stream",
          "name": "stdout",
          "text": [
            "Requirement already satisfied: librosa in /usr/local/lib/python3.10/dist-packages (0.10.2.post1)\n",
            "Requirement already satisfied: audioread>=2.1.9 in /usr/local/lib/python3.10/dist-packages (from librosa) (3.0.1)\n",
            "Requirement already satisfied: numpy!=1.22.0,!=1.22.1,!=1.22.2,>=1.20.3 in /usr/local/lib/python3.10/dist-packages (from librosa) (1.26.4)\n",
            "Requirement already satisfied: scipy>=1.2.0 in /usr/local/lib/python3.10/dist-packages (from librosa) (1.13.1)\n",
            "Requirement already satisfied: scikit-learn>=0.20.0 in /usr/local/lib/python3.10/dist-packages (from librosa) (1.5.2)\n",
            "Requirement already satisfied: joblib>=0.14 in /usr/local/lib/python3.10/dist-packages (from librosa) (1.4.2)\n",
            "Requirement already satisfied: decorator>=4.3.0 in /usr/local/lib/python3.10/dist-packages (from librosa) (4.4.2)\n",
            "Requirement already satisfied: numba>=0.51.0 in /usr/local/lib/python3.10/dist-packages (from librosa) (0.60.0)\n",
            "Requirement already satisfied: soundfile>=0.12.1 in /usr/local/lib/python3.10/dist-packages (from librosa) (0.12.1)\n",
            "Requirement already satisfied: pooch>=1.1 in /usr/local/lib/python3.10/dist-packages (from librosa) (1.8.2)\n",
            "Requirement already satisfied: soxr>=0.3.2 in /usr/local/lib/python3.10/dist-packages (from librosa) (0.5.0.post1)\n",
            "Requirement already satisfied: typing-extensions>=4.1.1 in /usr/local/lib/python3.10/dist-packages (from librosa) (4.12.2)\n",
            "Requirement already satisfied: lazy-loader>=0.1 in /usr/local/lib/python3.10/dist-packages (from librosa) (0.4)\n",
            "Requirement already satisfied: msgpack>=1.0 in /usr/local/lib/python3.10/dist-packages (from librosa) (1.1.0)\n",
            "Requirement already satisfied: packaging in /usr/local/lib/python3.10/dist-packages (from lazy-loader>=0.1->librosa) (24.1)\n",
            "Requirement already satisfied: llvmlite<0.44,>=0.43.0dev0 in /usr/local/lib/python3.10/dist-packages (from numba>=0.51.0->librosa) (0.43.0)\n",
            "Requirement already satisfied: platformdirs>=2.5.0 in /usr/local/lib/python3.10/dist-packages (from pooch>=1.1->librosa) (4.3.6)\n",
            "Requirement already satisfied: requests>=2.19.0 in /usr/local/lib/python3.10/dist-packages (from pooch>=1.1->librosa) (2.32.3)\n",
            "Requirement already satisfied: threadpoolctl>=3.1.0 in /usr/local/lib/python3.10/dist-packages (from scikit-learn>=0.20.0->librosa) (3.5.0)\n",
            "Requirement already satisfied: cffi>=1.0 in /usr/local/lib/python3.10/dist-packages (from soundfile>=0.12.1->librosa) (1.17.1)\n",
            "Requirement already satisfied: pycparser in /usr/local/lib/python3.10/dist-packages (from cffi>=1.0->soundfile>=0.12.1->librosa) (2.22)\n",
            "Requirement already satisfied: charset-normalizer<4,>=2 in /usr/local/lib/python3.10/dist-packages (from requests>=2.19.0->pooch>=1.1->librosa) (3.4.0)\n",
            "Requirement already satisfied: idna<4,>=2.5 in /usr/local/lib/python3.10/dist-packages (from requests>=2.19.0->pooch>=1.1->librosa) (3.10)\n",
            "Requirement already satisfied: urllib3<3,>=1.21.1 in /usr/local/lib/python3.10/dist-packages (from requests>=2.19.0->pooch>=1.1->librosa) (2.2.3)\n",
            "Requirement already satisfied: certifi>=2017.4.17 in /usr/local/lib/python3.10/dist-packages (from requests>=2.19.0->pooch>=1.1->librosa) (2024.8.30)\n"
          ]
        }
      ],
      "source": [
        "!pip install librosa"
      ]
    },
    {
      "cell_type": "code",
      "source": [
        "import librosa  # using for audio extraction"
      ],
      "metadata": {
        "id": "KRA2WgVhCx64"
      },
      "execution_count": null,
      "outputs": []
    },
    {
      "cell_type": "code",
      "source": [
        "import os\n",
        "print(os.path.exists(\"/content/Death Grips - Culture Shock.mp3\"))\n",
        "print(os.path.exists(\"/content/Death Grips - Black Dice.mp3\"))\n",
        "print(os.path.exists(\"/content/Death Grips - Lock Your Doors.mp3\"))\n",
        "print(os.path.exists(\"/content/Mac DeMarco - Rock and Roll Night Club.mp3\"))\n",
        "print(os.path.exists(\"/content/The Soul's Release - Catching Fireflies.mp3\"))\n",
        "print(os.path.exists(\"/content/Death Grips - Thru the Walls.mp3\"))\n",
        "print(os.path.exists(\"/content/Dillon - Thirteen Thirtyfive.mp3\"))\n",
        "print(os.path.exists(\"/content/Death Grips - Klink.mp3\"))"
      ],
      "metadata": {
        "colab": {
          "base_uri": "https://localhost:8080/"
        },
        "id": "RbD7LvkFDBt4",
        "outputId": "ec844ff8-bc8c-43ae-c16d-8f57b1112910"
      },
      "execution_count": null,
      "outputs": [
        {
          "output_type": "stream",
          "name": "stdout",
          "text": [
            "True\n",
            "True\n",
            "True\n",
            "True\n",
            "True\n",
            "True\n",
            "True\n",
            "True\n"
          ]
        }
      ]
    },
    {
      "cell_type": "code",
      "source": [
        "!pip install faiss-cpu     # Using faiss for similarity search"
      ],
      "metadata": {
        "colab": {
          "base_uri": "https://localhost:8080/"
        },
        "id": "9Dh0VIqbD0kL",
        "outputId": "465e295f-51cb-4466-a3c2-0f12a1565108"
      },
      "execution_count": null,
      "outputs": [
        {
          "output_type": "stream",
          "name": "stdout",
          "text": [
            "Collecting faiss-cpu\n",
            "  Downloading faiss_cpu-1.9.0-cp310-cp310-manylinux_2_17_x86_64.manylinux2014_x86_64.whl.metadata (4.4 kB)\n",
            "Requirement already satisfied: numpy<3.0,>=1.25.0 in /usr/local/lib/python3.10/dist-packages (from faiss-cpu) (1.26.4)\n",
            "Requirement already satisfied: packaging in /usr/local/lib/python3.10/dist-packages (from faiss-cpu) (24.1)\n",
            "Downloading faiss_cpu-1.9.0-cp310-cp310-manylinux_2_17_x86_64.manylinux2014_x86_64.whl (27.5 MB)\n",
            "\u001b[2K   \u001b[90m━━━━━━━━━━━━━━━━━━━━━━━━━━━━━━━━━━━━━━━━\u001b[0m \u001b[32m27.5/27.5 MB\u001b[0m \u001b[31m48.5 MB/s\u001b[0m eta \u001b[36m0:00:00\u001b[0m\n",
            "\u001b[?25hInstalling collected packages: faiss-cpu\n",
            "Successfully installed faiss-cpu-1.9.0\n"
          ]
        }
      ]
    },
    {
      "cell_type": "code",
      "source": [
        "from google.colab import drive\n",
        "drive.mount('/content/drive')"
      ],
      "metadata": {
        "id": "TALWYO4Nzetp"
      },
      "execution_count": null,
      "outputs": []
    },
    {
      "cell_type": "code",
      "source": [
        "# Import necessary libraries\n",
        "import librosa\n",
        "import numpy as np\n",
        "import faiss\n",
        "import os\n",
        "\n",
        "# 1.extract features from a song\n",
        "def extract_song_features(file_path, sr=22050):\n",
        "    \"\"\"\n",
        "    Extracts MFCCs and other acoustic features from an audio file.\n",
        "    :param file_path: Path to the audio file.\n",
        "    :param sr: Sampling rate.\n",
        "    :return: Feature vector of the song.\n",
        "    \"\"\"\n",
        "    if not os.path.exists(file_path):\n",
        "        print(f\"Error: File {file_path} does not exist\")\n",
        "        return None\n",
        "\n",
        "    try:\n",
        "        y, sr = librosa.load(file_path, sr=sr)  # Load the audio file\n",
        "\n",
        "        # MFCC (Mel-frequency cepstral coefficients) -speech and audio processing\n",
        "        mfcc = librosa.feature.mfcc(y=y, sr=sr, n_mfcc=13)\n",
        "        mfcc_mean = np.mean(mfcc, axis=1)\n",
        "\n",
        "        # Chroma feature -the energy in each pitch class and is useful for harmonic/musical content\n",
        "        chroma = librosa.feature.chroma_stft(y=y, sr=sr)\n",
        "        chroma_mean = np.mean(chroma, axis=1)\n",
        "\n",
        "        # Tempo -the speed (beats per minute) of the music\n",
        "        tempo, _ = librosa.beat.beat_track(y=y, sr=sr)\n",
        "\n",
        "        # Combine the features into a single vector\n",
        "        features = np.hstack([mfcc_mean, chroma_mean, tempo])\n",
        "        return features\n",
        "    except Exception as e:\n",
        "        print(f\"Error extracting features from {file_path}: {e}\")\n",
        "        return None\n",
        "\n",
        "#Load and vectorize the songs\n",
        "song_files = [\n",
        "    \"/content/Death Grips - Culture Shock.mp3\",\n",
        "    \"/content/Death Grips - Black Dice.mp3\",\n",
        "    \"/content/Death Grips - Klink.mp3\",\n",
        "    \"/content/Death Grips - Lock Your Doors.mp3\",\n",
        "    \"/content/Death Grips - Thru the Walls.mp3\",\n",
        "    \"/content/Mac DeMarco - Rock and Roll Night Club.mp3\",\n",
        "    \"/content/The Soul's Release - Catching Fireflies.mp3\"\n",
        "]\n",
        "\n",
        "song_vectors = []\n",
        "valid_files = []\n",
        "for file in song_files:\n",
        "    features = extract_song_features(file)\n",
        "    if features is not None:\n",
        "        song_vectors.append(features)\n",
        "        valid_files.append(file)  # Keep track of valid files (ones without errors)\n",
        "\n",
        "#Ensure vectors are non-empty before proceeding\n",
        "if not song_vectors:\n",
        "    print(\"No valid song vectors found. Exiting.\")\n",
        "    exit()\n",
        "\n",
        "song_vectors = np.array(song_vectors).astype(np.float32)  # Convert to float32\n",
        "#Build FAISS index\n",
        "dimension = song_vectors.shape[1]  # Correct dimension: Number of features in the vector\n",
        "index = faiss.IndexFlatL2(dimension)  # L2 distance is standard for similarity\n",
        "index.add(song_vectors)  # Add song vectors to the index\n",
        "#getting similar songs based on a query song\n",
        "def get_similar_songs(query_file, k=5):\n",
        "    \"\"\"\n",
        "    Find k similar songs to the given query song.\n",
        "    :param query_file: Path to the query audio file.\n",
        "    :param k: Number of similar songs to retrieve.\n",
        "    :return: Indices and distances of the top k similar songs.\n",
        "    \"\"\"\n",
        "    query_vector = extract_song_features(query_file)\n",
        "    if query_vector is None:\n",
        "        print(f\"Error: Could not extract features from {query_file}\")\n",
        "        return None, None\n",
        "    query_vector = query_vector.reshape(1, -1).astype(np.float32)\n",
        "    distances, indices = index.search(query_vector, k)\n",
        "    return indices, distances\n",
        "#Query for recommendations based on a song\n",
        "query_song = \"/content/Death Grips - Culture Shock.mp3\"\n",
        "similar_song_indices, distances = get_similar_songs(query_song)\n",
        "if similar_song_indices is not None:\n",
        "    print(\"Query song:\", query_song)\n",
        "    for i, idx in enumerate(similar_song_indices[0]):\n",
        "        print(f\"Recommended song {i + 1}: {valid_files[idx]} (Distance: {distances[0][i]})\")\n",
        "else:\n",
        "    print(\"No recommendations could be made.\")"
      ],
      "metadata": {
        "colab": {
          "base_uri": "https://localhost:8080/"
        },
        "id": "9kmehiU7De8b",
        "outputId": "403779c5-f4b6-4439-d456-3210e79aa019"
      },
      "execution_count": null,
      "outputs": [
        {
          "output_type": "stream",
          "name": "stdout",
          "text": [
            "Query song: /content/Death Grips - Culture Shock.mp3\n",
            "Recommended song 1: /content/Death Grips - Culture Shock.mp3 (Distance: 0.0)\n",
            "Recommended song 2: /content/Death Grips - Black Dice.mp3 (Distance: 1785.9837646484375)\n",
            "Recommended song 3: /content/Mac DeMarco - Rock and Roll Night Club.mp3 (Distance: 2154.3857421875)\n",
            "Recommended song 4: /content/Death Grips - Lock Your Doors.mp3 (Distance: 3611.427490234375)\n",
            "Recommended song 5: /content/Death Grips - Klink.mp3 (Distance: 4564.6748046875)\n"
          ]
        }
      ]
    },
    {
      "cell_type": "code",
      "source": [],
      "metadata": {
        "id": "1fMY5sguEHvJ"
      },
      "execution_count": null,
      "outputs": []
    }
  ]
}